{
 "cells": [
  {
   "cell_type": "markdown",
   "metadata": {},
   "source": [
    "# NX01 User Interface"
   ]
  },
  {
   "cell_type": "code",
   "execution_count": 189,
   "metadata": {
    "collapsed": false
   },
   "outputs": [
    {
     "name": "stdout",
     "output_type": "stream",
     "text": [
      "The autoreload extension is already loaded. To reload it, use:\n",
      "  %reload_ext autoreload\n"
     ]
    }
   ],
   "source": [
    "%load_ext autoreload\n",
    "%autoreload 2\n",
    "\n",
    "import NX01_widgetUtils as wu\n",
    "from IPython.display import display"
   ]
  },
  {
   "cell_type": "code",
   "execution_count": 214,
   "metadata": {
    "collapsed": false
   },
   "outputs": [],
   "source": [
    "tabs = wu.NX01opts()\n",
    "display(tabs)"
   ]
  },
  {
   "cell_type": "code",
   "execution_count": null,
   "metadata": {
    "collapsed": true
   },
   "outputs": [],
   "source": [
    "args = --from-h5 --psrlist=./PsrListings_BWM.txt --nmodes=30 --psrStartIndex=0 --psrEndIndex=6 --incGWB --incCorr --gwbSpecModel=powerlaw --limit-or-detect-gwb=detect --redSpecModel=powerlaw --limit-or-detect-red=detect --writeHotChains --dirExt=./chains_interactive/"
   ]
  },
  {
   "cell_type": "code",
   "execution_count": 218,
   "metadata": {
    "collapsed": false
   },
   "outputs": [
    {
     "name": "stdout",
     "output_type": "stream",
     "text": [
      "\n",
      "        \n",
      " /$$   /$$ /$$   /$$  /$$$$$$    /$$  \n",
      "| $$$ | $$| $$  / $$ /$$$_  $$ /$$$$      ________________        _\n",
      "| $$$$| $$|  $$/ $$/| $$$$\\ $$|_  $$      \\__(=======/_=_/____.--'-`--.___\n",
      "| $$ $$ $$ \\  $$$$/ | $$ $$ $$  | $$                \\ \\   `,--,-.___.----'\n",
      "| $$  $$$$  >$$  $$ | $$\\ $$$$  | $$              .--`\\--'../\n",
      "| $$\\  $$$ /$$/\\  $$| $$ \\ $$$  | $$             '---._____.|]\n",
      "| $$ \\  $$| $$  \\ $$|  $$$$$$/ /$$$$$$\n",
      "|__/  \\__/|__/  |__/ \\______/ |______/\n",
      "\n",
      "____    ____  ______    __    __      __    __       ___   ____    ____  _______    \n",
      "\\   \\  /   / /  __  \\  |  |  |  |    |  |  |  |     /   \\  \\   \\  /   / |   ____|   \n",
      " \\   \\/   / |  |  |  | |  |  |  |    |  |__|  |    /  ^  \\  \\   \\/   /  |  |__      \n",
      "  \\_    _/  |  |  |  | |  |  |  |    |   __   |   /  /_\\  \\  \\      /   |   __|     \n",
      "    |  |    |  `--'  | |  `--'  |    |  |  |  |  /  _____  \\  \\    /    |  |____    \n",
      "    |__|     \\______/   \\______/     |__|  |__| /__/     \\__\\  \\__/     |_______|   \n",
      "                                                                                    \n",
      ".___________. __    __   _______      ______   ______   .__   __. .__   __.         \n",
      "|           ||  |  |  | |   ____|    /      | /  __  \\  |  \\ |  | |  \\ |  |         \n",
      "`---|  |----`|  |__|  | |  |__      |  ,----'|  |  |  | |   \\|  | |   \\|  |         \n",
      "    |  |     |   __   | |   __|     |  |     |  |  |  | |  . `  | |  . `  |         \n",
      "    |  |     |  |  |  | |  |____    |  `----.|  `--'  | |  |\\   | |  |\\   |         \n",
      "    |__|     |__|  |__| |_______|    \\______| \\______/  |__| \\__| |__| \\__|         \n",
      "                                                                                    \n",
      "\n",
      "(\"\\n You've given me the sampling cadence for the observations,\", 'which determines the upper frequency limit and the number of modes, got it?\\n')\n"
     ]
    },
    {
     "ename": "TypeError",
     "evalue": "fname must be a string, filehandle, or generator. (got <type 'NoneType'> instead)",
     "output_type": "error",
     "traceback": [
      "\u001b[0;31m---------------------------------------------------------------------------\u001b[0m",
      "\u001b[0;31mTypeError\u001b[0m                                 Traceback (most recent call last)",
      "\u001b[0;32m/Users/staylor/Research/EPTAv2/UniEQ/NX01/NX01_master.py\u001b[0m in \u001b[0;36m<module>\u001b[0;34m()\u001b[0m\n\u001b[1;32m    197\u001b[0m \u001b[0;34m\u001b[0m\u001b[0m\n\u001b[1;32m    198\u001b[0m \u001b[0;31m# name, hdf5-path, par-path, tim-path\u001b[0m\u001b[0;34m\u001b[0m\u001b[0;34m\u001b[0m\u001b[0m\n\u001b[0;32m--> 199\u001b[0;31m \u001b[0mpsr_pathinfo\u001b[0m \u001b[0;34m=\u001b[0m \u001b[0mnp\u001b[0m\u001b[0;34m.\u001b[0m\u001b[0mgenfromtxt\u001b[0m\u001b[0;34m(\u001b[0m\u001b[0margs\u001b[0m\u001b[0;34m.\u001b[0m\u001b[0mpsrlist\u001b[0m\u001b[0;34m,\u001b[0m \u001b[0mdtype\u001b[0m\u001b[0;34m=\u001b[0m\u001b[0mstr\u001b[0m\u001b[0;34m,\u001b[0m \u001b[0mskip_header\u001b[0m\u001b[0;34m=\u001b[0m\u001b[0;36m2\u001b[0m\u001b[0;34m)\u001b[0m\u001b[0;34m\u001b[0m\u001b[0m\n\u001b[0m\u001b[1;32m    200\u001b[0m \u001b[0;34m\u001b[0m\u001b[0m\n\u001b[1;32m    201\u001b[0m \u001b[0;32mif\u001b[0m \u001b[0margs\u001b[0m\u001b[0;34m.\u001b[0m\u001b[0mfrom_h5\u001b[0m\u001b[0;34m:\u001b[0m\u001b[0;34m\u001b[0m\u001b[0m\n",
      "\u001b[0;32m/Users/staylor/anaconda/lib/python2.7/site-packages/numpy/lib/npyio.pyc\u001b[0m in \u001b[0;36mgenfromtxt\u001b[0;34m(fname, dtype, comments, delimiter, skiprows, skip_header, skip_footer, converters, missing, missing_values, filling_values, usecols, names, excludelist, deletechars, replace_space, autostrip, case_sensitive, defaultfmt, unpack, usemask, loose, invalid_raise)\u001b[0m\n\u001b[1;32m   1324\u001b[0m         raise TypeError(\n\u001b[1;32m   1325\u001b[0m             \u001b[0;34m\"fname must be a string, filehandle, or generator. \"\u001b[0m\u001b[0;34m\u001b[0m\u001b[0m\n\u001b[0;32m-> 1326\u001b[0;31m             \"(got %s instead)\" % type(fname))\n\u001b[0m\u001b[1;32m   1327\u001b[0m \u001b[0;34m\u001b[0m\u001b[0m\n\u001b[1;32m   1328\u001b[0m     split_line = LineSplitter(delimiter=delimiter, comments=comments,\n",
      "\u001b[0;31mTypeError\u001b[0m: fname must be a string, filehandle, or generator. (got <type 'NoneType'> instead)"
     ]
    }
   ],
   "source": [
    "%run NX01_master.py "
   ]
  },
  {
   "cell_type": "code",
   "execution_count": null,
   "metadata": {
    "collapsed": true
   },
   "outputs": [],
   "source": []
  }
 ],
 "metadata": {
  "kernelspec": {
   "display_name": "Python 2",
   "language": "python",
   "name": "python2"
  },
  "language_info": {
   "codemirror_mode": {
    "name": "ipython",
    "version": 2
   },
   "file_extension": ".py",
   "mimetype": "text/x-python",
   "name": "python",
   "nbconvert_exporter": "python",
   "pygments_lexer": "ipython2",
   "version": "2.7.10"
  }
 },
 "nbformat": 4,
 "nbformat_minor": 0
}
