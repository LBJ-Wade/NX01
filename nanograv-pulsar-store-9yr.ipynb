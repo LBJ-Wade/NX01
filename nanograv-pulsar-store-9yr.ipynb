{
 "cells": [
  {
   "cell_type": "code",
   "execution_count": null,
   "metadata": {
    "collapsed": false
   },
   "outputs": [],
   "source": [
    "%matplotlib inline\n",
    "%config InlineBackend.figure_format = 'retina'\n",
    "%load_ext Cython\n",
    "%load_ext autoreload\n",
    "%autoreload 2\n",
    "\n",
    "from __future__ import division\n",
    "import matplotlib\n",
    "import matplotlib.pyplot as plt\n",
    "matplotlib.rcParams['savefig.dpi'] = 1.5 * matplotlib.rcParams['savefig.dpi']\n",
    "\n",
    "import numpy as np\n",
    "import sys,os,glob,h5py\n",
    "import libstempo as T2\n",
    "import libstempo.plot as LP\n",
    "\n",
    "import NX01_psr\n",
    "import NX01_datafile\n",
    "\n",
    "try:\n",
    "    from IPython.core.display import clear_output\n",
    "    have_ipython = True\n",
    "except ImportError:\n",
    "    have_ipython = False\n",
    "\n",
    "Msol = 1.98855*10.0**30.0"
   ]
  },
  {
   "cell_type": "code",
   "execution_count": null,
   "metadata": {
    "collapsed": true
   },
   "outputs": [],
   "source": [
    "parentpath = '/Users/staylor/Research/NANOGrav/NANOGrav_9y/'\n",
    "\n",
    "parpath = parentpath + 'par'\n",
    "timpath = parentpath + 'tim'\n",
    "noisepath = parentpath + 'noisefiles'"
   ]
  },
  {
   "cell_type": "code",
   "execution_count": null,
   "metadata": {
    "collapsed": false
   },
   "outputs": [],
   "source": [
    "# Find the parfiles and timfiles\n",
    "parfiles = sorted(glob.glob(parpath+'/*.gls.par'))\n",
    "timfiles = sorted(glob.glob(timpath+'/*.tim'))"
   ]
  },
  {
   "cell_type": "code",
   "execution_count": null,
   "metadata": {
    "collapsed": false
   },
   "outputs": [],
   "source": [
    "parfiles = [x for x in parfiles \n",
    "            if x!=parpath+'/J1713+0747_NANOGrav_9yv1.gls.par' ]"
   ]
  },
  {
   "cell_type": "code",
   "execution_count": null,
   "metadata": {
    "collapsed": false
   },
   "outputs": [],
   "source": [
    "# Find the noise files\n",
    "noisefiles = sorted(glob.glob(noisepath+'/*.txt'))"
   ]
  },
  {
   "cell_type": "code",
   "execution_count": null,
   "metadata": {
    "collapsed": false
   },
   "outputs": [],
   "source": [
    "len(parfiles), len(timfiles), len(noisefiles)"
   ]
  },
  {
   "cell_type": "markdown",
   "metadata": {},
   "source": [
    "## This code block is a one-time deal to make par files stripped of EFACS, EQUADS, and ECORRs (don't do this if you have already got stripped par files)"
   ]
  },
  {
   "cell_type": "code",
   "execution_count": null,
   "metadata": {
    "collapsed": true
   },
   "outputs": [],
   "source": [
    "stripped_pars = list(parfiles)"
   ]
  },
  {
   "cell_type": "code",
   "execution_count": null,
   "metadata": {
    "collapsed": false
   },
   "outputs": [],
   "source": [
    "for ii in range(len(stripped_pars)):\n",
    "    stripped_pars[ii] = stripped_pars[ii].replace('9yv1.gls.par', '9yv1.gls.strip.par')\n",
    "    stripped_pars[ii] = stripped_pars[ii].replace('9yv1.t2.gls.par', '9yv1.t2.gls.strip.par')"
   ]
  },
  {
   "cell_type": "code",
   "execution_count": null,
   "metadata": {
    "collapsed": true
   },
   "outputs": [],
   "source": [
    "for ii in range(len(stripped_pars)):\n",
    "    os.system('awk \\'($1 !~ /T2EFAC/ && $1 !~ /T2EQUAD/ && $1 !~ /ECORR/ && $1 !~ /RNAMP/ && $1 !~ /RNIDX/ ) {{print $0}} \\' {0} > {1}'.format(parfiles[ii],stripped_pars[ii]))"
   ]
  },
  {
   "cell_type": "markdown",
   "metadata": {},
   "source": [
    "## Now moving on to processing these pulsars"
   ]
  },
  {
   "cell_type": "code",
   "execution_count": null,
   "metadata": {
    "collapsed": true
   },
   "outputs": [],
   "source": [
    "parfiles = sorted(glob.glob(parpath+'/*.strip.par'))"
   ]
  },
  {
   "cell_type": "code",
   "execution_count": null,
   "metadata": {
    "collapsed": false
   },
   "outputs": [],
   "source": [
    "#######################################\n",
    "# PASSING THROUGH TEMPO2 VIA libstempo\n",
    "#######################################\n",
    "\n",
    "t2psr = []\n",
    "for ii in range(len(parfiles)):\n",
    "    \n",
    "    t2psr.append( T2.tempopulsar(parfile = parfiles[ii], timfile = timfiles[ii]) )\n",
    "    \n",
    "    if np.any(np.isfinite(t2psr[ii].residuals())==False)==True:\n",
    "        t2psr[ii] = T2.tempopulsar(parfile = parfiles[ii], timfile = timfiles[ii])\n",
    "                 \n",
    "    clear_output()\n",
    "    print '\\r', '{0} of {1}'.format(ii+1,len(parfiles))\n",
    "    sys.stdout.flush()                 "
   ]
  },
  {
   "cell_type": "code",
   "execution_count": null,
   "metadata": {
    "collapsed": false
   },
   "outputs": [],
   "source": [
    "# Check out some plots if you want\n",
    "#LP.plotres(t2psr[0])\n",
    "plt.errorbar(t2psr[0].toas(),t2psr[0].residuals()/1e-6,t2psr[0].toaerrs,fmt='.',alpha=0.2)\n",
    "plt.xlabel(r'MJD')\n",
    "plt.ylabel(r'Residuals [$\\mu$s]')\n",
    "plt.show()"
   ]
  },
  {
   "cell_type": "code",
   "execution_count": null,
   "metadata": {
    "collapsed": false,
    "scrolled": true
   },
   "outputs": [],
   "source": [
    "# Pass all tempopulsar objects to NX01 pulsar class\n",
    "psr = [NX01_psr.PsrObj(p) for p in t2psr]\n",
    "[p.grab_all_vars(jitterbin=1.0,makeGmat=False,\n",
    "                 fastDesign=True,planetssb=True) for p in psr] # according to the 9 year paper,\n",
    "                                                               # the jitterbin used is 1s"
   ]
  },
  {
   "cell_type": "code",
   "execution_count": null,
   "metadata": {
    "collapsed": false
   },
   "outputs": [],
   "source": [
    "# Fill in the locations of par, tim, and noise files\n",
    "for ii in range(len(psr)):\n",
    "    psr[ii].parfile = parfiles[ii] \n",
    "    psr[ii].timfile = timfiles[ii]\n",
    "    psr[ii].noisefile = noisefiles[ii]"
   ]
  },
  {
   "cell_type": "code",
   "execution_count": null,
   "metadata": {
    "collapsed": true
   },
   "outputs": [],
   "source": [
    "# Make HDF5 file directory\n",
    "dirname = os.getcwd() + '/9yr_psr_hdf5_files'\n",
    "if not os.path.exists(dirname):\n",
    "    os.makedirs(dirname)"
   ]
  },
  {
   "cell_type": "code",
   "execution_count": null,
   "metadata": {
    "collapsed": false
   },
   "outputs": [],
   "source": [
    "# Dumpy all pulsars into HDF5 files \n",
    "for ii,p in enumerate(psr):\n",
    "    df = NX01_datafile.DataFile(dirname + '/' + p.name + '.hdf5')\n",
    "    df.addTempoPulsar(p)\n",
    "    \n",
    "    clear_output()\n",
    "    print '\\r', '{0} of {1}'.format(ii+1,len(psr))\n",
    "    sys.stdout.flush()"
   ]
  },
  {
   "cell_type": "code",
   "execution_count": null,
   "metadata": {
    "collapsed": true
   },
   "outputs": [],
   "source": [
    "# Create information text file for pulsar hdf5 file locations\n",
    "fil = open(dirname + '/psrList_nano9yr.txt','w')\n",
    "print >>fil, \"NAME\", \"HDF5-PATH\", \"PARFILE-PATH\", \"TIMFILE-PATH\"\n",
    "print >>fil, \"#############################################\"\n",
    "for p in psr:\n",
    "    print >>fil, p.name, dirname+'/'+p.name+'.hdf5'\n",
    "fil.close()"
   ]
  },
  {
   "cell_type": "code",
   "execution_count": null,
   "metadata": {
    "collapsed": true
   },
   "outputs": [],
   "source": [
    "# Create ranked information text file\n",
    "rankings = np.genfromtxt('./PsrListings_GWB.txt',dtype=str)[1:,0]\n",
    "fil = open(dirname + '/psrList_nano9yr_ranked.txt','w')\n",
    "print >>fil, \"NAME\", \"HDF5-PATH\", \"PARFILE-PATH\", \"TIMFILE-PATH\"\n",
    "print >>fil, \"#############################################\"\n",
    "for p in rankings:\n",
    "    print >>fil, p, dirname+'/'+p+'.hdf5'\n",
    "fil.close()"
   ]
  }
 ],
 "metadata": {
  "kernelspec": {
   "display_name": "Python 2",
   "language": "python",
   "name": "python2"
  },
  "language_info": {
   "codemirror_mode": {
    "name": "ipython",
    "version": 2
   },
   "file_extension": ".py",
   "mimetype": "text/x-python",
   "name": "python",
   "nbconvert_exporter": "python",
   "pygments_lexer": "ipython2",
   "version": "2.7.9"
  }
 },
 "nbformat": 4,
 "nbformat_minor": 0
}
